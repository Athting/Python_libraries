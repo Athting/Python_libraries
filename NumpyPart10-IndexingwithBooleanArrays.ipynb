{
  "nbformat": 4,
  "nbformat_minor": 0,
  "metadata": {
    "colab": {
      "provenance": [],
      "authorship_tag": "ABX9TyO8gZeTbt8zEe4zgV7sKGTJ",
      "include_colab_link": true
    },
    "kernelspec": {
      "name": "python3",
      "display_name": "Python 3"
    },
    "language_info": {
      "name": "python"
    }
  },
  "cells": [
    {
      "cell_type": "markdown",
      "metadata": {
        "id": "view-in-github",
        "colab_type": "text"
      },
      "source": [
        "<a href=\"https://colab.research.google.com/github/Athting/Python_libraries/blob/main/NumpyPart10-IndexingwithBooleanArrays.ipynb\" target=\"_parent\"><img src=\"https://colab.research.google.com/assets/colab-badge.svg\" alt=\"Open In Colab\"/></a>"
      ]
    },
    {
      "cell_type": "code",
      "execution_count": 1,
      "metadata": {
        "id": "RaH44y6H9dj3"
      },
      "outputs": [],
      "source": [
        "import numpy as np"
      ]
    },
    {
      "cell_type": "code",
      "source": [
        "arr = np.random.randint(low = 1, high = 100, size = 20).reshape(4,5)\n",
        "arr"
      ],
      "metadata": {
        "colab": {
          "base_uri": "https://localhost:8080/"
        },
        "id": "wZBpVI9U9h-C",
        "outputId": "d9f6775b-cd01-4848-90bf-e5c28d32f426"
      },
      "execution_count": 2,
      "outputs": [
        {
          "output_type": "execute_result",
          "data": {
            "text/plain": [
              "array([[ 5, 91, 25, 64, 48],\n",
              "       [ 8, 42, 99, 42, 94],\n",
              "       [83, 50, 70, 55, 76],\n",
              "       [67, 96, 93, 32, 29]])"
            ]
          },
          "metadata": {},
          "execution_count": 2
        }
      ]
    },
    {
      "cell_type": "code",
      "source": [
        "arr[0]"
      ],
      "metadata": {
        "colab": {
          "base_uri": "https://localhost:8080/"
        },
        "id": "kkL1e19B9s9q",
        "outputId": "8a2701e6-f253-4fd7-f714-24e4aca8fd95"
      },
      "execution_count": 3,
      "outputs": [
        {
          "output_type": "execute_result",
          "data": {
            "text/plain": [
              "array([ 5, 91, 25, 64, 48])"
            ]
          },
          "metadata": {},
          "execution_count": 3
        }
      ]
    },
    {
      "cell_type": "code",
      "source": [
        "# Indexing using Boolean Array\n",
        "arr[arr>50]"
      ],
      "metadata": {
        "colab": {
          "base_uri": "https://localhost:8080/"
        },
        "id": "wkjLXs7w98vi",
        "outputId": "0bb40381-e3f9-4b5d-948d-17c59efaf3f7"
      },
      "execution_count": 6,
      "outputs": [
        {
          "output_type": "execute_result",
          "data": {
            "text/plain": [
              "array([[False,  True, False,  True, False],\n",
              "       [False, False,  True, False,  True],\n",
              "       [ True, False,  True,  True,  True],\n",
              "       [ True,  True,  True, False, False]])"
            ]
          },
          "metadata": {},
          "execution_count": 6
        }
      ]
    },
    {
      "cell_type": "code",
      "source": [
        "arr[((arr>50) & (arr%2 != 0))]"
      ],
      "metadata": {
        "colab": {
          "base_uri": "https://localhost:8080/"
        },
        "id": "lDkIPLo2-NlV",
        "outputId": "7480d548-7fed-4cc4-81cc-6d0cc81e5bfe"
      },
      "execution_count": 7,
      "outputs": [
        {
          "output_type": "execute_result",
          "data": {
            "text/plain": [
              "array([91, 99, 83, 55, 67, 93])"
            ]
          },
          "metadata": {},
          "execution_count": 7
        }
      ]
    },
    {
      "cell_type": "code",
      "source": [
        "arr[((arr>50) & (arr%2 != 0))] = 0"
      ],
      "metadata": {
        "id": "h26TEqLc-_ev"
      },
      "execution_count": 8,
      "outputs": []
    },
    {
      "cell_type": "code",
      "source": [
        "arr"
      ],
      "metadata": {
        "colab": {
          "base_uri": "https://localhost:8080/"
        },
        "id": "AEZAPuc6_K2w",
        "outputId": "d488bed7-89cc-4ccd-9ca9-69510de09c03"
      },
      "execution_count": 9,
      "outputs": [
        {
          "output_type": "execute_result",
          "data": {
            "text/plain": [
              "array([[ 5,  0, 25, 64, 48],\n",
              "       [ 8, 42,  0, 42, 94],\n",
              "       [ 0, 50, 70,  0, 76],\n",
              "       [ 0, 96,  0, 32, 29]])"
            ]
          },
          "metadata": {},
          "execution_count": 9
        }
      ]
    }
  ]
}